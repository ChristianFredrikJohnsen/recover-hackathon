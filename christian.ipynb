{
 "cells": [
  {
   "cell_type": "code",
   "execution_count": 1,
   "id": "e1ceba55",
   "metadata": {},
   "outputs": [],
   "source": [
    "import pandas as pd"
   ]
  },
  {
   "cell_type": "code",
   "execution_count": null,
   "id": "b283ecb8",
   "metadata": {},
   "outputs": [
    {
     "name": "stdout",
     "output_type": "stream",
     "text": [
      "      id  project_id         room             work_operation_cluster_name  \\\n",
      "0  18299      197011  tilkomstvei  Lett beskyttelse av gulv med dekkepapp   \n",
      "1  18299      197011  tilkomstvei                                Byggvask   \n",
      "2  18299      197011  tilkomstvei               Tildekking av trappetrinn   \n",
      "3  18300      270183          Bar         Ny underlag for parkett/laminat   \n",
      "4  18300      270183          Bar            Demont gulvlist for gjenbruk   \n",
      "\n",
      "   work_operation_cluster_code  \n",
      "0                          256  \n",
      "1                          108  \n",
      "2                          260  \n",
      "3                           53  \n",
      "4                           67  \n",
      "Number of unique ids: 185635\n",
      "Number of unique projects: 51009\n"
     ]
    }
   ],
   "source": [
    "train_df = pd.read_csv('data/train.csv')\n",
    "\n",
    "\n",
    "print(train_df.head())\n",
    "\n",
    "uniqueids = train_df['id'].nunique()\n",
    "print(f'Number of unique ids: {uniqueids}')\n",
    "\n",
    "unique_projectids = train_df['project_id'].nunique()\n",
    "print(f'Number of unique projects: {unique_projectids}')"
   ]
  }
 ],
 "metadata": {
  "kernelspec": {
   "display_name": "3.14.0",
   "language": "python",
   "name": "python3"
  },
  "language_info": {
   "codemirror_mode": {
    "name": "ipython",
    "version": 3
   },
   "file_extension": ".py",
   "mimetype": "text/x-python",
   "name": "python",
   "nbconvert_exporter": "python",
   "pygments_lexer": "ipython3",
   "version": "3.14.0"
  }
 },
 "nbformat": 4,
 "nbformat_minor": 5
}
