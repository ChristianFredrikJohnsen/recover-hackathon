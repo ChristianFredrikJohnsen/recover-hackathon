{
 "cells": [
  {
   "cell_type": "code",
   "execution_count": 2,
   "id": "2b717700",
   "metadata": {},
   "outputs": [],
   "source": [
    "import hackathon\n",
    "from hackathon import HackathonDataset\n"
   ]
  },
  {
   "cell_type": "code",
   "execution_count": 3,
   "id": "f147ef11",
   "metadata": {},
   "outputs": [
    {
     "name": "stdout",
     "output_type": "stream",
     "text": [
      "Submission saved to submissions/submission_20251025_152857.csv\n",
      "{'X': tensor([[0, 0, 0,  ..., 0, 0, 0],\n",
      "        [0, 0, 0,  ..., 0, 0, 0],\n",
      "        [0, 0, 0,  ..., 0, 0, 0],\n",
      "        ...,\n",
      "        [0, 0, 0,  ..., 0, 0, 0],\n",
      "        [0, 0, 0,  ..., 0, 0, 0],\n",
      "        [0, 0, 0,  ..., 0, 0, 0]]), 'Y': tensor([[0, 0, 0,  ..., 0, 0, 0],\n",
      "        [0, 0, 0,  ..., 0, 0, 0],\n",
      "        [0, 0, 0,  ..., 0, 0, 0],\n",
      "        ...,\n",
      "        [0, 0, 0,  ..., 0, 0, 0],\n",
      "        [0, 0, 0,  ..., 0, 0, 0],\n",
      "        [0, 0, 0,  ..., 0, 0, 0]]), 'context': tensor([[[0, 0, 0,  ..., 0, 0, 0],\n",
      "         [0, 0, 0,  ..., 0, 0, 0],\n",
      "         [0, 0, 0,  ..., 0, 0, 0],\n",
      "         [0, 0, 0,  ..., 0, 0, 0],\n",
      "         [0, 0, 0,  ..., 0, 0, 0],\n",
      "         [0, 0, 0,  ..., 0, 0, 0]],\n",
      "\n",
      "        [[0, 0, 0,  ..., 0, 0, 0],\n",
      "         [0, 0, 0,  ..., 0, 0, 0],\n",
      "         [0, 0, 0,  ..., 0, 0, 0],\n",
      "         [0, 0, 0,  ..., 0, 0, 0],\n",
      "         [0, 0, 0,  ..., 0, 0, 0],\n",
      "         [0, 0, 0,  ..., 0, 0, 0]],\n",
      "\n",
      "        [[0, 0, 0,  ..., 0, 0, 0],\n",
      "         [0, 0, 0,  ..., 0, 0, 0],\n",
      "         [0, 0, 0,  ..., 0, 0, 0],\n",
      "         [0, 0, 0,  ..., 1, 0, 0],\n",
      "         [0, 0, 0,  ..., 0, 0, 0],\n",
      "         [0, 0, 0,  ..., 0, 0, 0]],\n",
      "\n",
      "        ...,\n",
      "\n",
      "        [[0, 0, 0,  ..., 0, 0, 0],\n",
      "         [0, 0, 0,  ..., 0, 0, 0],\n",
      "         [0, 0, 0,  ..., 1, 0, 0],\n",
      "         [0, 0, 0,  ..., 0, 0, 0],\n",
      "         [0, 0, 0,  ..., 0, 0, 0],\n",
      "         [0, 0, 0,  ..., 0, 0, 0]],\n",
      "\n",
      "        [[0, 0, 0,  ..., 0, 0, 0],\n",
      "         [0, 0, 0,  ..., 0, 0, 0],\n",
      "         [0, 0, 0,  ..., 1, 0, 0],\n",
      "         [0, 0, 0,  ..., 0, 0, 0],\n",
      "         [0, 0, 0,  ..., 0, 0, 0],\n",
      "         [0, 0, 0,  ..., 0, 0, 0]],\n",
      "\n",
      "        [[0, 0, 0,  ..., 0, 0, 0],\n",
      "         [0, 0, 0,  ..., 0, 0, 0],\n",
      "         [0, 0, 0,  ..., 1, 0, 0],\n",
      "         [0, 0, 0,  ..., 0, 0, 0],\n",
      "         [0, 0, 0,  ..., 0, 0, 0],\n",
      "         [0, 0, 0,  ..., 0, 0, 0]]]), 'context_mask': tensor([[ True, False, False, False, False, False],\n",
      "        [ True, False, False, False, False, False],\n",
      "        [ True,  True,  True,  True, False, False],\n",
      "        [ True,  True,  True,  True, False, False],\n",
      "        [ True,  True,  True,  True, False, False],\n",
      "        [ True,  True,  True,  True, False, False],\n",
      "        [ True,  True,  True,  True, False, False],\n",
      "        [ True,  True, False, False, False, False],\n",
      "        [ True,  True, False, False, False, False],\n",
      "        [ True,  True, False, False, False, False],\n",
      "        [ True, False, False, False, False, False],\n",
      "        [ True, False, False, False, False, False],\n",
      "        [ True,  True,  True,  True,  True,  True],\n",
      "        [ True,  True,  True,  True,  True,  True],\n",
      "        [ True,  True,  True,  True,  True,  True],\n",
      "        [ True,  True,  True,  True,  True,  True],\n",
      "        [ True,  True,  True,  True,  True,  True],\n",
      "        [ True,  True,  True,  True,  True,  True],\n",
      "        [ True,  True,  True,  True,  True,  True],\n",
      "        [ True,  True,  True,  True, False, False],\n",
      "        [ True,  True,  True,  True, False, False],\n",
      "        [ True,  True,  True,  True, False, False],\n",
      "        [ True,  True,  True,  True, False, False],\n",
      "        [ True,  True,  True,  True, False, False],\n",
      "        [ True,  True,  True,  True, False, False],\n",
      "        [ True,  True,  True,  True, False, False],\n",
      "        [ True,  True,  True,  True, False, False],\n",
      "        [ True,  True,  True,  True, False, False],\n",
      "        [ True,  True,  True,  True, False, False],\n",
      "        [ True,  True,  True, False, False, False],\n",
      "        [ True,  True,  True, False, False, False],\n",
      "        [ True,  True,  True, False, False, False]])}\n"
     ]
    }
   ],
   "source": [
    "if __name__ == \"__main__\":\n",
    "    from torch.utils.data import DataLoader\n",
    "    from collate import collate_fn\n",
    "\n",
    "    dataset = HackathonDataset(split=\"val\", download=True, seed=42, root=\"data\")\n",
    "    test_predictions = {idx: [] for idx in range(18299)}\n",
    "    dataset.create_submission(test_predictions)\n",
    "\n",
    "    dataloader = DataLoader(dataset, batch_size=32, collate_fn=collate_fn)\n",
    "\n",
    "    for batch in dataloader:\n",
    "        print(batch)\n",
    "        break\n"
   ]
  },
  {
   "cell_type": "code",
   "execution_count": 4,
   "id": "69e4393d",
   "metadata": {},
   "outputs": [
    {
     "name": "stdout",
     "output_type": "stream",
     "text": [
      "id: <class 'int'>\n",
      "X: <class 'torch.Tensor'>\n",
      "Y: <class 'torch.Tensor'>\n",
      "project_id: <class 'int'>\n",
      "room_cluster: <class 'str'>\n",
      "room_cluster_one_hot: <class 'torch.Tensor'>\n",
      "calculus: <class 'list'>\n",
      "X_codes: <class 'torch.Tensor'>\n",
      "Y_codes: <class 'torch.Tensor'>\n",
      "insurance_company: <class 'str'>\n",
      "insurance_company_one_hot: <class 'torch.Tensor'>\n",
      "recover_office_zip_code: <class 'int'>\n",
      "damage_address_zip_code: <class 'int'>\n",
      "office_distance: <class 'float'>\n",
      "case_creation_year: <class 'int'>\n",
      "case_creation_month: <class 'int'>\n",
      "torch.Size([3])\n",
      "torch.Size([0])\n"
     ]
    }
   ],
   "source": [
    "for key, value in dataset[0].items():\n",
    "    print(f\"{key}: {type(value)}\")\n",
    "\n",
    "sample = dataset[0]\n",
    "\n",
    "print(sample[\"X_codes\"].shape)\n",
    "print(sample[\"Y_codes\"].shape)"
   ]
  },
  {
   "cell_type": "code",
   "execution_count": 5,
   "id": "c3bf0b32",
   "metadata": {},
   "outputs": [
    {
     "name": "stdout",
     "output_type": "stream",
     "text": [
      "tensor([259, 256, 108])\n",
      "tensor([])\n",
      "torch.Size([388])\n",
      "torch.Size([388])\n"
     ]
    }
   ],
   "source": [
    "print(sample[\"X_codes\"])\n",
    "print(sample[\"Y_codes\"])\n",
    "print(sample[\"X\"].shape)\n",
    "print(sample[\"Y\"].shape)"
   ]
  },
  {
   "cell_type": "code",
   "execution_count": 6,
   "id": "f731452b",
   "metadata": {},
   "outputs": [
    {
     "name": "stdout",
     "output_type": "stream",
     "text": [
      "X: <class 'torch.Tensor'>\n",
      "Y: <class 'torch.Tensor'>\n",
      "context: <class 'torch.Tensor'>\n",
      "context_mask: <class 'torch.Tensor'>\n",
      "Hello, Hackathon Dataset!\n"
     ]
    }
   ],
   "source": [
    "smth = next(iter(dataloader))\n",
    "for key, value in smth.items():\n",
    "    print(f\"{key}: {type(value)}\")\n",
    "# print(smth)\n",
    "print(\"Hello, Hackathon Dataset!\")\n"
   ]
  },
  {
   "cell_type": "code",
   "execution_count": 7,
   "id": "0b62446e",
   "metadata": {},
   "outputs": [
    {
     "name": "stdout",
     "output_type": "stream",
     "text": [
      "torch.Size([32, 6, 399])\n",
      "torch.Size([32, 399])\n",
      "torch.Size([32, 388])\n"
     ]
    }
   ],
   "source": [
    "print(smth[\"context\"].shape)\n",
    "print(smth[\"X\"].shape)\n",
    "print(smth[\"Y\"].shape)\n",
    "# smth[\"context\"]"
   ]
  },
  {
   "cell_type": "code",
   "execution_count": 51,
   "id": "aac3ebb1",
   "metadata": {},
   "outputs": [],
   "source": [
    "import torch\n",
    "import torch.nn as nn\n",
    "import torch.optim as optim\n",
    "device = torch.device('cuda' if torch.cuda.is_available() else 'cpu')\n",
    "\n",
    "# === 1. Minimal Multi-Label Model ===\n",
    "class SimpleMultiLabelModel(nn.Module):\n",
    "    def __init__(self, input_dim, output_dim, hidden_dim=256):\n",
    "        super().__init__()\n",
    "        self.fc = nn.Sequential(\n",
    "            nn.Linear(input_dim, hidden_dim),\n",
    "            nn.Sigmoid(),\n",
    "            nn.Linear(hidden_dim, hidden_dim),\n",
    "            nn.Sigmoid(),\n",
    "            nn.Linear(hidden_dim, hidden_dim),\n",
    "            nn.Sigmoid(),\n",
    "            nn.Linear(hidden_dim, output_dim)\n",
    "        )\n",
    "    def forward(self, batch):\n",
    "        return self.fc(batch[\"X\"])  # batch[\"X\"] is [batch_size, input_dim]\n",
    "\n",
    "# === 2. Basic Training Loop ===\n",
    "def train_model(model, dataloader, num_epochs=5, learning_rate=1e-3, device=torch.device('cpu')):\n",
    "    model = model.to(device)\n",
    "    optimizer = optim.Adam(model.parameters(), lr=learning_rate)\n",
    "    criterion = nn.BCEWithLogitsLoss()\n",
    "\n",
    "    model.train()\n",
    "    for epoch in range(num_epochs):\n",
    "        running_loss = 0.0\n",
    "        for batch in dataloader:\n",
    "            x = batch[\"X\"].to(device).float()\n",
    "            y = batch[\"Y\"].to(device).float()\n",
    "\n",
    "            outputs = model({'X': x})\n",
    "            loss = criterion(outputs, y)\n",
    "\n",
    "            optimizer.zero_grad()\n",
    "            loss.backward()\n",
    "            optimizer.step()\n",
    "\n",
    "            running_loss += loss.item() * x.size(0)\n",
    "        avg_loss = running_loss / len(dataloader.dataset)\n",
    "        print(f\"Epoch {epoch+1}/{num_epochs} - Loss: {avg_loss:.4f}\")\n",
    "\n"
   ]
  },
  {
   "cell_type": "code",
   "execution_count": null,
   "id": "06dd1eae",
   "metadata": {},
   "outputs": [],
   "source": [
    "# === Example usage (assuming you have dataset and dataloader ready) ===\n",
    "# First, get your dataloader as per your pipeline\n",
    "from dataset.hackathon import HackathonDataset\n",
    "from dataset.collate import collate_fn\n",
    "from torch.utils.data import DataLoader\n",
    "\n",
    "dataset = HackathonDataset(split=\"train\", download=True)  # Adjust paths/splits as needed\n"
   ]
  },
  {
   "cell_type": "code",
   "execution_count": 52,
   "id": "910bee54",
   "metadata": {},
   "outputs": [],
   "source": [
    "# Now, initialize and train the model:\n",
    "batch_size = 1024\n",
    "dataloader = DataLoader(dataset, batch_size=batch_size, collate_fn=collate_fn, shuffle=True)"
   ]
  },
  {
   "cell_type": "code",
   "execution_count": 53,
   "id": "40556f7f",
   "metadata": {},
   "outputs": [
    {
     "name": "stdout",
     "output_type": "stream",
     "text": [
      "Epoch 1/1 - Loss: 0.0537\n"
     ]
    }
   ],
   "source": [
    "# Now, initialize and train the model:\n",
    "input_dim = dataset[0][\"X\"].numel()\n",
    "output_dim = dataset[0][\"Y\"].numel()\n",
    "model = SimpleMultiLabelModel(399, output_dim)\n",
    "train_model(model, dataloader, num_epochs=1, device=device)\n"
   ]
  },
  {
   "cell_type": "code",
   "execution_count": 54,
   "id": "aae687c5",
   "metadata": {},
   "outputs": [],
   "source": [
    "test_dataset = HackathonDataset(split=\"test\", download=True)\n",
    "test_dataloader = DataLoader(test_dataset, batch_size=18299, collate_fn=collate_fn, shuffle=False)\n"
   ]
  },
  {
   "cell_type": "code",
   "execution_count": 55,
   "id": "8105df2d",
   "metadata": {},
   "outputs": [
    {
     "name": "stdout",
     "output_type": "stream",
     "text": [
      "18299\n"
     ]
    }
   ],
   "source": [
    "for batch in test_dataloader:\n",
    "    print(len(batch[\"X\"]))"
   ]
  },
  {
   "cell_type": "code",
   "execution_count": 56,
   "id": "8beb11e7",
   "metadata": {},
   "outputs": [
    {
     "name": "stdout",
     "output_type": "stream",
     "text": [
      "Submission saved to submissions/submission_20251025_163749.csv\n"
     ]
    }
   ],
   "source": [
    "# Set model to eval mode and turn off gradients\n",
    "model.eval()\n",
    "predictions = {}\n",
    "\n",
    "with torch.no_grad():\n",
    "    for batch in test_dataloader:\n",
    "        x = batch[\"X\"].to(device).float()\n",
    "        logits = model({'X': x})\n",
    "        probs = torch.sigmoid(logits)\n",
    "        # Get predicted cluster indices (threshold can be tuned)\n",
    "        pred_indices = (probs > 0.25).cpu().numpy()\n",
    "        ids = range(len(batch[\"X\"])) # Assuming your batch dict contains the test sample ids\n",
    "        for idx, arr in zip(ids, pred_indices):\n",
    "            # arr is a boolean array length=num_clusters\n",
    "            cluster_indices = [i for i, v in enumerate(arr) if v]\n",
    "            predictions[int(idx)] = cluster_indices\n",
    "\n",
    "# Save using the dataset's built-in create_submission method\n",
    "test_dataset.create_submission(predictions)"
   ]
  },
  {
   "cell_type": "code",
   "execution_count": 57,
   "id": "aa7edfb8",
   "metadata": {},
   "outputs": [
    {
     "data": {
      "text/plain": [
       "18299"
      ]
     },
     "execution_count": 57,
     "metadata": {},
     "output_type": "execute_result"
    }
   ],
   "source": [
    "len(predictions)"
   ]
  },
  {
   "cell_type": "code",
   "execution_count": 58,
   "id": "29b49d2a",
   "metadata": {},
   "outputs": [
    {
     "name": "stdout",
     "output_type": "stream",
     "text": [
      "cuda\n"
     ]
    }
   ],
   "source": [
    "print(device)"
   ]
  }
 ],
 "metadata": {
  "kernelspec": {
   "display_name": "kai",
   "language": "python",
   "name": "python3"
  },
  "language_info": {
   "codemirror_mode": {
    "name": "ipython",
    "version": 3
   },
   "file_extension": ".py",
   "mimetype": "text/x-python",
   "name": "python",
   "nbconvert_exporter": "python",
   "pygments_lexer": "ipython3",
   "version": "3.13.0"
  }
 },
 "nbformat": 4,
 "nbformat_minor": 5
}
